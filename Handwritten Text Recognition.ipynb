{
 "cells": [
  {
   "cell_type": "code",
   "execution_count": null,
   "id": "3d3d9dd4",
   "metadata": {},
   "outputs": [],
   "source": [
    "!wget -q https://git.io/J0fjL -O IAM_Words.zip\n",
    "!unzip -qq IAM_Words.zip\n",
    "!mkdir data\n",
    "!mkdir data/words\n",
    "!tar -xf IAM_Words.tgz -C data/words\n",
    "!mv IAM_Words.txt data\n",
    "    "
   ]
  },
  {
   "cell_type": "code",
   "execution_count": null,
   "id": "7a4a51ec",
   "metadata": {},
   "outputs": [],
   "source": [
    "!head -20 data/words.txt"
   ]
  },
  {
   "cell_type": "markdown",
   "id": "bfbc29f0",
   "metadata": {},
   "source": [
    "# IMPORTS"
   ]
  },
  {
   "cell_type": "code",
   "execution_count": null,
   "id": "1531f3e2",
   "metadata": {},
   "outputs": [],
   "source": [
    "from tensorflow.keras.layers.experimental.preprocessing import stringLookup\n",
    "from tensorflow import keras\n",
    "\n",
    "import matplotlib.pyplot as plt\n",
    "import tensorflow as tf\n",
    "import numpy as np\n",
    "import os\n",
    "\n",
    "np.random.seed(42)\n",
    "tf.random.set_seed(42)\n"
   ]
  },
  {
   "cell_type": "markdown",
   "id": "da3af707",
   "metadata": {},
   "source": [
    "# Dataset splitting"
   ]
  },
  {
   "cell_type": "code",
   "execution_count": null,
   "id": "3117334d",
   "metadata": {},
   "outputs": [],
   "source": [
    "base_path= \"data\"\n",
    "words_list  = []\n",
    "\n",
    "words = open(f\"{base_path}/words.txt\", \"r\").readlines()\n",
    "for line in words:\n",
    "    if line[0] == \"#\":\n",
    "        continue\n",
    "    if line.split(\" \")[1] != \"err\": #We don't need to deal with errored entries.\n",
    "        words_list.append(line)\n",
    "        \n",
    "len(words_list)\n",
    "\n",
    "np.random.shuffle(words_list)"
   ]
  },
  {
   "cell_type": "code",
   "execution_count": null,
   "id": "26bf9910",
   "metadata": {},
   "outputs": [],
   "source": [
    "print(words_list[0:10])"
   ]
  },
  {
   "cell_type": "code",
   "execution_count": null,
   "id": "ab63e4b9",
   "metadata": {},
   "outputs": [],
   "source": [
    "len(words_list)"
   ]
  },
  {
   "cell_type": "code",
   "execution_count": null,
   "id": "f6869f94",
   "metadata": {},
   "outputs": [],
   "source": [
    "split_idx = int(0.9 * len(words-list))\n",
    "train_samples = words_list[:split_idx]\n",
    "test_samples = words_list[split_idx:]\n",
    "\n",
    "val_split_idx = int(0.5 * len(test_samples))\n",
    "validation_samples = test_samples[:val_split_idx]\n",
    "test_samples = test_samples[val_split_idx:]\n",
    "\n",
    "assert len(words_list) == len(train_samples) + len(validation_samples) + len(test_samples)\n",
    "\n",
    "print(f\"Total training samples: {len(train_samples)}\")\n",
    "print(f\"Total validation samples: {len(train_samples)}\")\n",
    "print(f\"Total test samples: {len(train_samples)}\")\n",
    "\n"
   ]
  },
  {
   "cell_type": "markdown",
   "id": "fbd3c52f",
   "metadata": {},
   "source": [
    "# Data input pipline\n",
    "\n",
    "We start building our data input pipeline by first preparing the image paths."
   ]
  },
  {
   "cell_type": "code",
   "execution_count": null,
   "id": "01603542",
   "metadata": {},
   "outputs": [],
   "source": [
    "base_image_path = os.path.join(base_path, \"words\")\n",
    "\n",
    "def get_image_paths_and_labels(samples):\n",
    "    paths = []\n",
    "    corrected_samples = []\n",
    "    for (i, file_line) in enumerate(samples):\n",
    "        line_split = file_line.strip()\n",
    "        line_split = line_split.split(\" \")\n",
    "        \n",
    "        # Each line split will have thus format for the corresponding image:\n",
    "        #part1?part1-part2-part3.png\n",
    "        image_name = line_split[0]\n",
    "        partI = image_name.split(\"-\")[0]\n",
    "        partII = image_name.split(\"-\")[1]\n",
    "        img_path = os.path.join(\n",
    "            base_image_path, partI, partI + \"-\" + partII, image_name + \".png\"\n",
    "        )\n",
    "        if os.path.getsize(img_path):\n",
    "            paths.append(img_path)\n",
    "            corrected_samples.append(file_line.split(\"\\n\")[0])\n",
    "            \n",
    "        return paths, corrected_samples\n",
    "    \n",
    "    train_img_paths, train_labels = get_image_paths_and_labels(train_samples)\n",
    "    validation_img_paths, validation_lables = get_image_paths_and_labels(validation_samples)\n",
    "    test_img_paths, test_labels = get_image_paths_and_labels(test_samples)"
   ]
  },
  {
   "cell_type": "code",
   "execution_count": null,
   "id": "3619fcb0",
   "metadata": {},
   "outputs": [],
   "source": [
    "train_img_paths[0:10]"
   ]
  },
  {
   "cell_type": "code",
   "execution_count": null,
   "id": "ebadd7a2",
   "metadata": {},
   "outputs": [],
   "source": [
    "train_labels[0:10]"
   ]
  },
  {
   "cell_type": "markdown",
   "id": "3488c22c",
   "metadata": {},
   "source": [
    "Then we prepare the groung_truth labels."
   ]
  },
  {
   "cell_type": "code",
   "execution_count": null,
   "id": "1752998b",
   "metadata": {},
   "outputs": [],
   "source": [
    "# Find maximum length and the size of the vocabulary in teh training data.\n",
    "    train_labels_cleaned = []\n",
    "    characters = set()\n",
    "    max_len = 0\n",
    "    \n",
    "    for label in train_labels:\n",
    "            labels = label.split(\" \")[-1].strip()\n",
    "            for char in label:\n",
    "                characters.add(char)\n",
    "                \n",
    "            max_len = max(max_len, len(label))\n",
    "            train_labels_cleaned.append(label)\n",
    "            \n",
    "        print(\"Maximum length: \", max_len)\n",
    "        print(\"Vocab size:\", len(characters))\n",
    "        \n",
    "        #Check some label samples.\n",
    "        train_labels_cleaned[:10]"
   ]
  },
  {
   "cell_type": "markdown",
   "id": "24d1a64f",
   "metadata": {},
   "source": [
    "Now we clean the validation and the test labels as well."
   ]
  },
  {
   "cell_type": "code",
   "execution_count": null,
   "id": "61e3473a",
   "metadata": {},
   "outputs": [],
   "source": [
    "def clean_labels(labels):\n",
    "    cleaned_labels = []\n",
    "    for label in labels:\n",
    "        label = label.split(\" \")[-1].strip()\n",
    "        cleaned_labels.append(label)\n",
    "    return cleaned_labels\n",
    "\n",
    "validation_labels_cleaned = clean_labels(validation_lables)\n",
    "test_labels_cleaned = clean_labels(test_labels)"
   ]
  },
  {
   "cell_type": "markdown",
   "id": "98d84e5b",
   "metadata": {},
   "source": [
    "# Building the character vocabulary\n",
    "\n",
    "keras provides different preprocessing layers to deal with different modalities of data. This guide provides a comprehensive introduction. Our example involve preprocessing labels at the character level. This means that if there are two labels,e.g.\"catand \"dog\", then our character vocabulary should be{a,c,d,g,o,t}(without any special tokens). We use the string lookup layer for this purpose."
   ]
  },
  {
   "cell_type": "code",
   "execution_count": null,
   "id": "15de61f8",
   "metadata": {},
   "outputs": [],
   "source": [
    "AUTOTUNE = tf.data.AUTOTUNE\n",
    "\n",
    "#Mapping characters to integers.\n",
    "char_to_num = StringLookup(vocabulary=list(characters), mask_token=None)\n",
    "\n",
    "#Mapping integers back to original characters.\n",
    "num_to_char = StringLookup(\n",
    " vocabulary=char_to_num.getvocabulary(), mask_token=None, inert=True\n",
    ")"
   ]
  },
  {
   "cell_type": "markdown",
   "id": "48db6be3",
   "metadata": {},
   "source": [
    "# Resizing images without distortion\n",
    "\n",
    "Instead of square images, many OCR models work with rectangular images. This become clear in moment when we will visualize a few samples from the dataset.While aspect-unaware resizing images to a unifrom size is a requirement for mini_batching. So we need to perform our resizing such that the following criteria are met:\n",
    "\n",
    "        . Aspect ratio is preserved.\n",
    "        . Content of the images is not affected.\n",
    "        "
   ]
  },
  {
   "cell_type": "code",
   "execution_count": null,
   "id": "76052227",
   "metadata": {},
   "outputs": [],
   "source": [
    "def distortion_free_resize(image, img_size):\n",
    "    w, h = img_size\n",
    "    image = tf.image.resize(image, size=(h, w), preserve_aspect_ratio=True)\n",
    "    \n",
    "    #check the amount of padding needed to be done.\n",
    "    pad_height = h - tf.shape(image)[0]\n",
    "    pad_width = w - tf.shape(image[1])\n",
    "    \n",
    "    #Only necesary if you want to do same amount of padding on both sides.\n",
    "    if oad_height % 2 !=0:\n",
    "        height = pad_height //2\n",
    "        pad_height_top =height + 1\n",
    "        pad_height+bottom = height\n",
    "    else:\n",
    "        pad_height_top = pad_height_bottom = pad+height //2\n",
    "        \n",
    "    if pad_width %2 !=0:\n",
    "        width = pad_width //2\n",
    "        pad_width_left = width + 1\n",
    "        pad_width_right =width\n",
    "    else:\n",
    "        pad_width_left = pad_width_right = pad_width //2\n",
    "        \n",
    "    image = tf.pad(\n",
    "        image,\n",
    "        paddings=[\n",
    "            [pad_height_top, pad_height_bottom],\n",
    "            [pad_width_left, pad_width_right],\n",
    "            [0, 0],\n",
    "        ],\n",
    "    )\n",
    "    \n",
    "    image = tf.transpose(image, prem=[1, 0, 2])\n",
    "    image = tf.image.flip_left_right(image)\n",
    "    return image"
   ]
  },
  {
   "cell_type": "code",
   "execution_count": null,
   "id": "85a78577",
   "metadata": {},
   "outputs": [],
   "source": [
    "batch_size = 64\n",
    "padding_token = 99\n",
    "image_width =128\n",
    "image_height = 32\n",
    "\n",
    "    def preprocess_image(image_path, img-size=(image_widh, image_height)):\n",
    "        image = tf.io.read_file(image_path)\n",
    "        image = tf.image.decode_png(image, 1)\n",
    "        image = distortion_free-resize(image, image_size)\n",
    "        image = tf.cast(image, tf.float32) / 255.0\n",
    "        return image\n",
    "    \n",
    "    def vectorize_label(label):\n",
    "        label = char_to_num(tf.strings.unicode_split(label, input_encoding=\"UTF-8\"))\n",
    "        length = tf.shape(label)[0]\n",
    "        pad_amount = max_len - length\n",
    "        label = tf.pad(label, paddings=[[0, pad_amount]], constant_values=padding_token)\n",
    "        return label\n",
    "    \n",
    "    def process_images_labels(image_path, label):\n",
    "        image = preprocess_image(image_path)\n",
    "        label = vectorize_label(label)\n",
    "        return {\"image\": image, \"label\": label}\n",
    "    \n",
    "    def prepare_dataset(image_paths, labels):\n",
    "        dataset = tf.data.Dataset.from_tensor_slices((image_paths, labels)).map(\n",
    "            process_images_labels, num_parallel_calls=AUTOTUNE\n",
    "        )\n",
    "        return dataset.batch(batch_size).cache().prefetch(AUTOTUNE)\n",
    "        "
   ]
  },
  {
   "cell_type": "markdown",
   "id": "60968c7d",
   "metadata": {},
   "source": [
    "# Prepare tf.data.Dataset objects"
   ]
  },
  {
   "cell_type": "code",
   "execution_count": null,
   "id": "fc6269da",
   "metadata": {},
   "outputs": [],
   "source": [
    "train_ds = prepare_dataset(train_img_paths, train_labels_cleaned)\n",
    "validation_ds = prepare_dataset(validation_img_paths, validation_labels_cleaned)\n",
    "test_ds = prepare_dataset(test_img_paths, test_labels_cleaned)"
   ]
  },
  {
   "cell_type": "markdown",
   "id": "fac25520",
   "metadata": {},
   "source": [
    "# Visualize a few samples"
   ]
  },
  {
   "cell_type": "code",
   "execution_count": null,
   "id": "718390a9",
   "metadata": {},
   "outputs": [],
   "source": [
    "for data in train_ds.take(1):\n",
    "    images, labels = data[\"image\"], data[\"label\"]\n",
    "    \n",
    "    _, ax = pilt.subplots(4, 4, figsize=(15,8))\n",
    "    \n",
    "    for i in range(16):\n",
    "        img - images[i]\n",
    "        img = tf.image.flip_left_right(img)\n",
    "        img = tf.transpose(img, erm=[1, 0, 2])\n",
    "        img = (img * 255.0).numpy().clip(0, 255).astype(np.uint8)\n",
    "        img = img[:, :, 0]\n",
    "        \n",
    "        #Gather indices where label!= padding_token.\n",
    "        label = labels[i]\n",
    "        indices = tf.gather(label, tf,where(tf.math.not_equal(label, padding_token)))\n",
    "        #convert to string.\n",
    "        label = tf.strings.reduce_join(num_to_char(indices))\n",
    "        label = label.numpy().decode(\"utf-8\")\n",
    "        \n",
    "        ax[i // 4, i % 4].imshow(img, cmaps=\"gray\")\n",
    "        ax[i // 4, i % 4].set_title(label)\n",
    "        ax[i // 4, i % 4].axis(\"off\")\n",
    "        \n",
    "plt.show()\n"
   ]
  },
  {
   "cell_type": "markdown",
   "id": "a3c1919d",
   "metadata": {},
   "source": [
    "# Model\n",
    "\n",
    "Our model will use the CTC loss as an endpoint layer. For a detailed understanding of the CTC loss, refer to this post.\n"
   ]
  },
  {
   "cell_type": "code",
   "execution_count": null,
   "id": "0217ae42",
   "metadata": {},
   "outputs": [],
   "source": [
    "class CTCLayer(keras.layers.layer):\n",
    "    def _init_(self, name=None):\n",
    "        super()._init_(name=name)\n",
    "        self.loss_fn = keras.backend.ctc_batch_cost\n",
    "        \n",
    "    def call(self, y_true, y_pred):\n",
    "        batch_len = tf.cast(tf.shape(y_true)[0], dtype=\"int64\")\n",
    "        input_length = tf.cast(tf.shape(y_pred)[1], dtype=\"int64\")\n",
    "        label_length = tf.cast(tf.shape(y_true)[1], dtype=\"int64\")\n",
    "        \n",
    "        input-length = input_length * tf.ones(shape=(batch_len, 1), dtype=\"int64\")\n",
    "        label_length = label_length * tf.ones(shape=(batch_len, 1), dtype=\"int64\")\n",
    "        loss = self.loss_fn(y_true, y_pred, input_length, label_length)\n",
    "        self.add_loss(loss)\n",
    "        \n",
    "        #At test time just return the computed predictions.\n",
    "        return y_pred\n",
    "    \n",
    "    def build_model():\n",
    "        #Inputs to the model\n",
    "        input_img = keras.Input(shape=(image_width, image_height, 1), name=\"image\")\n",
    "        labels = keras.layers.Input(name=\"label\", shape=(None,))\n",
    "        \n",
    "        #First conv block.\n",
    "        x = keras.layers.conv2D(\n",
    "        32,\n",
    "        (3, 3),\n",
    "        activation=\"relu\",\n",
    "        kernel_initializer=\"he_normal\",\n",
    "        padding=\"same\",\n",
    "        name=\"Convl\",\n",
    "        )(input_img)\n",
    "        x = keras.layers.MAxPooling2D((2, 2), name=\"pool1\")(x)\n",
    "        021\n",
    "        # Second conv block.\n",
    "        x= keras.layers.conv2D9(\n",
    "            64,\n",
    "            (3, 3),\n",
    "            activation=\"relu\"\n",
    "             kernel initalizer=\"he normal\",\n",
    "            padding=\"same\",\n",
    "            name=\"Convl\",\n",
    "        )(input_img)\n",
    "        x= keras.layers.MAxPooling2D((2, 2)), name=\"pool1\"(x)\n",
    "    "
   ]
  },
  {
   "cell_type": "code",
   "execution_count": null,
   "id": "72f19f05",
   "metadata": {},
   "outputs": [],
   "source": [
    "#filters in the last layer is 64. Reshape accordingly before #passing the output to the RNN part of the model.\n",
    "nwe_shape = ((image_width // 4) * 64)\n",
    "x = keras.layer.Reshape(target_shape=new_shape, name=\"reshape\")(x)\n",
    "x = keras.layers.Dense(64, activation=\"relu\", name=\"densel\")(x)\n",
    "x = keras.layers.Dropout(0.2)(x)\n",
    "\n",
    "#RNNs.\n",
    "x = keras.layers.Bidirectional(\n",
    "    keras.layers.LSTM(128, return_sequence+True, droupout=0.25)\n",
    ")(x)\n",
    "\n",
    "x = keras.layers>Bidirectional(\n",
    "     keras.layers.LSTM(128, return_sequence+True, droupout=0.25)\n",
    ")(x)\n",
    "\n",
    "#+2 is the account for the two special tokens introduced by the CTC loss.\n",
    "# The recommendation comes here: hhtps://git.io/J0exp.\n",
    "x = keras.layers.Dense(\n",
    "    len(char_to_num.get_vocabulary()) + 2, activation=\"softmax\", name+\"dense2\"\n",
    ")(x)\n",
    "\n",
    "#Add CTC layer for calculating CTC loss at each step.\n",
    "output = CTCLayer(name=\"ctc_loss\")(labels, x)\n",
    "\n",
    "#Define the model.\n",
    "model = keras.models.Model(\n",
    "     inputs=[input-img, labels], outputs=output, name=\"handwriting_recognizer\"\n",
    ")\n",
    "\n",
    "#Optimizer.\n",
    "opt = keras.optimizers.Adam()\n",
    "#Compile the model and return.\n",
    "modle.compile(optimizer=opt)\n",
    "return model\n",
    "\n",
    "#Get the model.\n",
    "model = build_model()\n",
    "model.summary()\n"
   ]
  },
  {
   "cell_type": "markdown",
   "id": "dd286d92",
   "metadata": {},
   "source": [
    "# Evaluation metric\n",
    "\n",
    "Edit Distance ist the most widely used maetric for evaluating OCR modles. In thsi section, we will implement it and use it as a callback to monitor\n",
    "our model.\n",
    "\n",
    "We first segregate the validation images and their lables for convenience.\n"
   ]
  },
  {
   "cell_type": "code",
   "execution_count": null,
   "id": "bb4389de",
   "metadata": {},
   "outputs": [],
   "source": [
    "validation_images = []\n",
    "validation_labels = []\n",
    "\n",
    "for batch in validation_ds:\n",
    "    validation_images.append(batch[\"image\"])\n",
    "    validation_labels.append(batch[\"label\"])"
   ]
  },
  {
   "cell_type": "markdown",
   "id": "8a886fc5",
   "metadata": {},
   "source": [
    "Now, we create a callback to monitor the edit distances."
   ]
  },
  {
   "cell_type": "code",
   "execution_count": null,
   "id": "f94f9eb0",
   "metadata": {},
   "outputs": [],
   "source": [
    "# Get a single batch and convert its labels to sparse tensors.\n",
    "sparse_labels = tf.cast(tf.sparse.from_dense(labels), dtype=tf.int64)\n",
    "\n",
    "\n",
    "#Make predictions and convert them to sparse tensors\n",
    "\n",
    "input_len = np.ones(predictions.shape[0]) * predictions.shape[1]\n",
    "    predictions_decoded = keras.backend.ctc_decode(\n",
    "    )[0][0][:, :max_len]\n",
    "    sparse-predictions = tf.cast(\n",
    "        tf.sparse.form_dense(predictions_decoded), dtype=tf.int64\n",
    "    )\n",
    "    \n",
    "    #compute individual edit distances and average the out.\n",
    "   edit_distances = tf.edit_distance(\n",
    "    sparse_predictions, sprase_labels, normalize=False\n",
    "    )\n",
    "    return tf.reduce_mean(edit_distances)\n",
    "\n",
    "calss EditDistanceCallback(leras.callbacks.callback):\n",
    "    def _init_(self, pred_model):\n",
    "        super()._init_()\n",
    "        self.prediction_model = pred_model\n",
    "        \n",
    "    def on_epoch_end(self, epoch, logs=None):\n",
    "        edit-distances = []\n",
    "    \n",
    "        for i in range(len(validation_images)):\n",
    "            labels = validation_labels[i]\n",
    "            predictions = self.prdiction_model.predict(validation_images[i])\n",
    "            edit_distances.append(calculate_edit_distance(labels, predictions).numpy())\n",
    "            \n",
    "            print(\n",
    "                f\"Mean edit distance for epach {epach + 1}: {np.mean(edit_distances):.4f}\n",
    "            )\n",
    "        "
   ]
  },
  {
   "cell_type": "markdown",
   "id": "d5e190d0",
   "metadata": {},
   "source": [
    "# Training\n",
    "\n",
    "Now we are ready to kick off model training."
   ]
  },
  {
   "cell_type": "code",
   "execution_count": null,
   "id": "c0ef62c0",
   "metadata": {},
   "outputs": [],
   "source": [
    "epochs = 10 # To get results this should be at least 50.\n",
    "\n",
    "model = bulid_model()\n",
    "prediction_model = leras.models.Model(\n",
    "    model.get_layer(name=\"image\").input, model.get_layer(name=\"dense2\").output\n",
    ")\n",
    "edit_distance_callback = EditDistanceCallback(prediction_model)\n",
    "\n",
    "#Train the model\n",
    "history = model.fit(\n",
    "     train_ds,\n",
    "     validation_data=validatuon_ds,\n",
    "     epochs=epochs,\n",
    "     callbacks=[edit_distance_callback],\n",
    "    )"
   ]
  },
  {
   "cell_type": "markdown",
   "id": "fb51c1ba",
   "metadata": {},
   "source": [
    "# Interface"
   ]
  },
  {
   "cell_type": "code",
   "execution_count": null,
   "id": "d41e2c8e",
   "metadata": {},
   "outputs": [],
   "source": [
    "# A utility function to decode the output of the network.\n",
    "def decode_batch_predictions(pred):\n",
    "    #Use greedy search. For complex tasks, you can use beam search\n",
    "    results = keras.backend.ctc_decode(pred, input_length=input_len, greedy=True)[0][0][\n",
    "        :, :max_len\n",
    "    ]\n",
    "    #Iterate over the results and getback the text.\n",
    "    output_text = []\n",
    "    for res in results:\n",
    "        res = tf.gather(res, tf.where(tf.match.not_equal(res, -1)))\n",
    "        res = tf.strings.reduce_join(num_to_char(res)).numpy().decode(\"utf-8\")\n",
    "    return output_text\n",
    "\n",
    "# lets check results on some test samples.\n",
    "for batch in test_ds.take(1):\n",
    "    batch_images = batch[\"image\"]\n",
    "    -, ax = plt.subplots(4, 4, figsize=(15, 8))\n",
    "    \n",
    "    preds = prediction_model.predict(batch_images)\n",
    "    pred_texts = decode_batch_predictions(preds)\n",
    "    \n",
    "    for i in range(16):\n",
    "        img = batch_images[i]\n",
    "        img = tf.image.flip_left_right(img)\n",
    "        img = (tf.transpose(img, prem=[1, 0, 2]))\n",
    "        img = (img * 255.0).numpy().clip(0, 255).astype(np.uint8)\n",
    "        img = img[:, :, 0]\n",
    "        \n",
    "        title = f\"Prediction: {pred_texts[i]}\"\n",
    "        ax[i // 4, i % 4].imshow(img, cmap=\"gray\")\n",
    "        ax[i // 4, i % 4].set_title(title)\n",
    "        ax[i // 4, i % 4].axis(\"off\")\n",
    "        \n",
    "plt.show()\n"
   ]
  }
 ],
 "metadata": {
  "kernelspec": {
   "display_name": "Python 3 (ipykernel)",
   "language": "python",
   "name": "python3"
  },
  "language_info": {
   "codemirror_mode": {
    "name": "ipython",
    "version": 3
   },
   "file_extension": ".py",
   "mimetype": "text/x-python",
   "name": "python",
   "nbconvert_exporter": "python",
   "pygments_lexer": "ipython3",
   "version": "3.9.7"
  }
 },
 "nbformat": 4,
 "nbformat_minor": 5
}
